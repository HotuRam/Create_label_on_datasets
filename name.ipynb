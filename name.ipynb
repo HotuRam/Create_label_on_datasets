{
 "cells": [
  {
   "cell_type": "markdown",
   "metadata": {},
   "source": [
    "# How to Label the Dataset\n",
    "\n",
    "### simple we change the name of each image "
   ]
  },
  {
   "cell_type": "markdown",
   "metadata": {},
   "source": [
    "Reference - https://youtu.be/jVN2vXkXdsE?t=125"
   ]
  },
  {
   "cell_type": "code",
   "execution_count": 1,
   "metadata": {},
   "outputs": [],
   "source": [
    "import pathlib\n"
   ]
  },
  {
   "cell_type": "code",
   "execution_count": 2,
   "metadata": {},
   "outputs": [],
   "source": [
    "path = pathlib.Path('.') / \"photos\""
   ]
  },
  {
   "cell_type": "code",
   "execution_count": 3,
   "metadata": {},
   "outputs": [
    {
     "data": {
      "text/plain": [
       "WindowsPath('photos')"
      ]
     },
     "execution_count": 3,
     "metadata": {},
     "output_type": "execute_result"
    }
   ],
   "source": [
    "path"
   ]
  },
  {
   "cell_type": "code",
   "execution_count": 4,
   "metadata": {},
   "outputs": [],
   "source": [
    "\n",
    "def rename_photos():\n",
    "    path = pathlib.Path('.') / \"photos\"\n",
    "    for folder in path.iterdir():\n",
    "        if folder.is_dir():\n",
    "            counter = 1\n",
    "            for file in folder.iterdir():\n",
    "                if file.is_file():\n",
    "                    new_file = folder.name + str(counter) + file.suffix\n",
    "                    file.rename(path / folder.name / new_file)\n",
    "                    counter += 1\n",
    "\n",
    "if __name__ == \"__main__\":\n",
    "    rename_photos()"
   ]
  },
  {
   "cell_type": "code",
   "execution_count": null,
   "metadata": {},
   "outputs": [],
   "source": []
  }
 ],
 "metadata": {
  "interpreter": {
   "hash": "b367ecabc0bc40cfaea97e60b6b15ab0673393dd9ef9a4e1297d0595e8c8f10a"
  },
  "kernelspec": {
   "display_name": "Python 3.7.11 ('image_scraping_new')",
   "language": "python",
   "name": "python3"
  },
  "language_info": {
   "codemirror_mode": {
    "name": "ipython",
    "version": 3
   },
   "file_extension": ".py",
   "mimetype": "text/x-python",
   "name": "python",
   "nbconvert_exporter": "python",
   "pygments_lexer": "ipython3",
   "version": "3.7.11"
  },
  "orig_nbformat": 4
 },
 "nbformat": 4,
 "nbformat_minor": 2
}
